{
  "nbformat": 4,
  "nbformat_minor": 0,
  "metadata": {
    "colab": {
      "provenance": [],
      "authorship_tag": "ABX9TyMaqwfGzlo/Ha2F8XkLOVR8",
      "include_colab_link": true
    },
    "kernelspec": {
      "name": "python3",
      "display_name": "Python 3"
    },
    "language_info": {
      "name": "python"
    }
  },
  "cells": [
    {
      "cell_type": "markdown",
      "metadata": {
        "id": "view-in-github",
        "colab_type": "text"
      },
      "source": [
        "<a href=\"https://colab.research.google.com/github/yeon01546/First/blob/main/CT6_2.ipynb\" target=\"_parent\"><img src=\"https://colab.research.google.com/assets/colab-badge.svg\" alt=\"Open In Colab\"/></a>"
      ]
    },
    {
      "cell_type": "markdown",
      "source": [
        "학생 10명의 성적을 입력받아 평균을 계산하는 알고리즘을 의사코드로 표현해보자."
      ],
      "metadata": {
        "id": "-Axp_wLjXDZP"
      }
    },
    {
      "cell_type": "code",
      "execution_count": 38,
      "metadata": {
        "colab": {
          "base_uri": "https://localhost:8080/"
        },
        "id": "JK7FSPiwXC4N",
        "outputId": "75687296-a954-4cfb-a60e-ab324f0dcddc"
      },
      "outputs": [
        {
          "output_type": "stream",
          "name": "stdout",
          "text": [
            "grade의 값을 입력하시오.70\n",
            "grade의 값을 입력하시오.80\n",
            "grade의 값을 입력하시오.90\n",
            "grade의 값을 입력하시오.40\n",
            "grade의 값을 입력하시오.80\n",
            "grade의 값을 입력하시오.90\n",
            "grade의 값을 입력하시오.100\n",
            "grade의 값을 입력하시오.60\n",
            "grade의 값을 입력하시오.20\n",
            "grade의 값을 입력하시오.40\n",
            "67.0\n"
          ]
        }
      ],
      "source": [
        "total=0                                           #변수 total은 0\n",
        "counter=1                                         #변수 counter은 1\n",
        "while counter <= 10:                              #반복문 counter가 10과 같을 때까지\n",
        "      grade=int(input(\"grade의 값을 입력하시오.\")) #grade라는 변수를 받는다\n",
        "      total=total+grade                           #변수 total은 total과 grade를 더한다\n",
        "      counter=counter+1                           #변수 counter은 counter과 1을 더한다\n",
        "average=total/10                                  #변수 average는 전체 total 값을 10으로 나눈다\n",
        "print(average)                                    #average 값을 출력한다"
      ]
    }
  ]
}